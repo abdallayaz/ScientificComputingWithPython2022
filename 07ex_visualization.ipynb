{
 "cells": [
  {
   "cell_type": "markdown",
   "metadata": {},
   "source": [
    "1\\. **Spotting correlations**\n",
    "\n",
    "Load the remote file:\n",
    "\n",
    "```bash\n",
    "https://www.dropbox.com/s/aamg1apjhclecka/regression_generated.csv\n",
    "```\n",
    "\n",
    "with Pandas and create scatter plots with all possible combinations of the following features:\n",
    "    \n",
    "  + features_1\n",
    "  + features_2\n",
    "  + features_3\n",
    "  \n",
    "Are these features correlated?"
   ]
  },
  {
   "cell_type": "code",
   "execution_count": null,
   "metadata": {},
   "outputs": [],
   "source": [
    "# libraries\n",
    "import numpy as np\n",
    "import matplotlib.pyplot as plt\n",
    "import pandas as pd\n",
    "import seaborn as sns\n",
    "import scipy.stats as stats\n",
    "import scip"
   ]
  },
  {
   "cell_type": "code",
   "execution_count": null,
   "metadata": {},
   "outputs": [],
   "source": [
    "url='https://www.dropbox.com/s/aamg1apjhclecka/regression_generated.csv?dl=1'\n",
    "# file = urllib.request.urlopen(url)\n",
    "pl = pd.read_csv(url) \n",
    "# pl"
   ]
  },
  {
   "cell_type": "code",
   "execution_count": null,
   "metadata": {},
   "outputs": [],
   "source": [
    "# ploting the features against labels\n",
    "\n",
    "%matplotlib inline\n",
    "\n",
    "pl.plot.scatter(x='features_1',y='features_2',c='label',colormap='viridis')\n",
    "pl.plot.scatter(x='features_2',y='features_3',c='label',colormap='gist_rainbow')\n",
    "pl.plot.scatter(x='features_1',y='features_3',c='label',colormap='viridis')\n"
   ]
  },
  {
   "cell_type": "markdown",
   "metadata": {},
   "source": [
    "2\\. **Color-coded scatter plot**\n",
    "\n",
    "Produce a scatter plot from a dataset with two categories.\n",
    "\n",
    "* Write a function that generates a 2D dataset consisting of 2 categories. Each category should distribute as a 2D gaussian with a given mean and standard deviation. Set different values of the mean and standard deviation between the two samples.\n",
    "* Display the dataset in a scatter plot marking the two categories with different marker colors.\n",
    "\n",
    "An example is given below:"
   ]
  },
  {
   "cell_type": "code",
   "execution_count": null,
   "metadata": {},
   "outputs": [],
   "source": [
    "from IPython.display import Image\n",
    "Image('images/two_categories_scatter_plot.png')"
   ]
  },
  {
   "cell_type": "code",
   "execution_count": null,
   "metadata": {},
   "outputs": [],
   "source": [
    "# multivariate_normal(mean, cov, size=None, check_valid='warn', tol=1e-8)\n",
    "# print(x)\n",
    "\n",
    "def generate_mul(n):\n",
    "    fig, ax = plt.subplots(figsize=(8, 5))\n",
    "    fig.tight_layout()\n",
    "\n",
    "    for i in range(n):\n",
    "#         x=np.random.multivariate_normal([1,1],[[2,0],[0,3]], size =100)\n",
    "#         y=np.random.multivariate_normal([1,1],[[2,0],[0,3]], size =100)\n",
    "        x = np.random.normal(np.random.uniform(0.,20.), np.random.uniform(0.,1.), 1000) \n",
    "        y = np.random.normal(np.random.uniform(0.,20.), np.random.uniform(0.,1.), 1000) \n",
    "#         df = pd.DataFrame(x,columns=['A', 'B'])\n",
    "#         x1=df['A']\n",
    "#         y1=df['B']\n",
    "        plt.scatter(x,y)\n",
    "\n",
    "generate_mul(2)"
   ]
  },
  {
   "cell_type": "markdown",
   "metadata": {},
   "source": [
    "3\\. **Profile plot**\n",
    "\n",
    "Produce a profile plot from a scatter plot.\n",
    "* Download the following pickle file:\n",
    "```bash\n",
    "wget https://www.dropbox.com/s/3uqleyc3wyz52tr/residuals_261.pkl -P data/\n",
    "```\n",
    "* Inspect the dataset, you'll find two variables (features)\n",
    "* Convert the content to a Pandas Dataframe\n",
    "* Clean the sample by selecting the entries (rows) with the absolute values of the variable \"residual\" smaller than 2\n",
    "* Plot a Seaborn `jointplot` of \"residuals\" versus \"distances\", and use seaborn to display a linear regression. \n",
    "\n",
    "Comment on the correlation between these variables.\n",
    "\n",
    "* Create manually (without using seaborn) the profile histogram for the \"distance\" variable; choose an appropriate binning.\n",
    "* Obtain 3 numpy arrays:\n",
    "  * `x`, the array of bin centers of the profile histogram of the \"distance\" variable\n",
    "  * `y`, the mean values of the \"residuals\", estimated in slices (bins) of \"distance\"\n",
    "  * `err_y`, the standard deviation of the of the \"residuals\", estimated in slices (bins) of \"distance\"\n",
    "* Plot the profile plot on top of the scatter plot"
   ]
  },
  {
   "cell_type": "code",
   "execution_count": null,
   "metadata": {},
   "outputs": [],
   "source": [
    "# !type data\\residuals_261.pkl\n",
    "df = pd.read_pickle(\"data/residuals_261.pkl\")\n",
    "# d_f=pd.DataFrame(df)\n",
    "\n",
    "file=dict(pd.read_pickle(\"data/residuals_261.pkl\").item())\n",
    "data=pd.DataFrame(file)\n",
    "data = data.loc[(data[\"residuals\"] > -1) & (data[\"residuals\"] < 1)]\n",
    "sns.jointplot(x=\"distances\", y=\"residuals\", data=data, kind = \"reg\", scatter_kws={\"s\": 5}, line_kws={\"color\": \"blue\"})\n",
    "plt.show()\n",
    "\n",
    "\n",
    "\n",
    "\n",
    "figure, axis = plt.subplots(2, 1,figsize=(6,6))\n",
    "a,bins,_=axis[0].hist(data.distances,bins=30)\n",
    "x=np.array([0.5*(bins[i]+bins[i+1]) for i in range(0,len(bins)-1)])\n",
    "y=np.zeros(len(bins))\n",
    "err_y=np.zeros(len(bins))\n",
    "for i in range(0,len(bins)-1):\n",
    "    c=data.loc[(data[\"distances\"] >bins[i]) & (data[\"distances\"] <bins[i+1])].residuals\n",
    "    y[i]=np.mean(c)\n",
    "    err_y[i]=np.std(c)\n",
    "# print(x)\n",
    "# print(y)\n",
    "print(\"error\",err_y)\n",
    "axis[1].scatter(data.distances,data.residuals,s=2)\n",
    "plt.show()"
   ]
  },
  {
   "cell_type": "markdown",
   "metadata": {},
   "source": [
    "4\\. **Kernel Density Estimate**\n",
    "\n",
    "Produce a KDE for a given distribution (by hand, not using seaborn):\n",
    "\n",
    "* Fill a numpy array `x` of length N (with $N=\\mathcal{O}(100)$) with a variable normally distributed, with a given mean and standard deviation\n",
    "* Fill an histogram in pyplot taking proper care of the aesthetic:\n",
    "   * use a meaningful number of bins\n",
    "   * set a proper y axis label\n",
    "   * set proper value of y axis major ticks labels (e.g. you want to display only integer labels)\n",
    "   * display the histograms as data points with errors (the error being the poisson uncertainty)\n",
    "* For every element of `x`, create a gaussian with the mean corresponding to the element value and the standard deviation as a parameter that can be tuned. The standard deviation default value should be:\n",
    "$$ 1.06 * x.std() * x.size ^{-\\frac{1}{5}} $$\n",
    "you can use the scipy function `stats.norm()` for that.\n",
    "* In a separate plot (to be placed beside the original histogram), plot all the gaussian functions so obtained\n",
    "* Sum (with `np.sum()`) all the gaussian functions and normalize the result such that the integral matches the integral of the original histogram. For that you could use the `scipy.integrate.trapz()` method. Superimpose the normalized sum of all gaussians to the first histogram.\n"
   ]
  },
  {
   "cell_type": "code",
   "execution_count": null,
   "metadata": {},
   "outputs": [],
   "source": [
    "fig, axs = plt.subplots(1, 2,figsize=(15, 7))\n",
    "N=400\n",
    "\n",
    "x= np.random.normal(0, 1, N)\n",
    "val,bin_edge,_=axs[0].hist(x, bins=50)\n",
    "\n",
    "\n",
    "bin_center=np.array([0.5*(bin_edge[i]+bin_edge[i+1]) for i in range(0,len(bin_edge)-1)])\n",
    "err_y=[]\n",
    "for i in range(len(val)):\n",
    "    if val[i]!=0:\n",
    "        err_y.append(1/np.sqrt(val[i])) \n",
    "    else:\n",
    "        err_y.append(0)\n",
    "        \n",
    "axs[0].errorbar(bin_center, val, yerr=err_y, fmt=\"+k\", ecolor='red', elinewidth=2, markersize=5)\n",
    "\n",
    "\n",
    "\n",
    "\n",
    "#############\n",
    "\n",
    "x_axis = np.arange(-5, 5, 0.1)\n",
    "tot=0\n",
    "for mu in x:\n",
    "    sigma=1.06*np.std(x)*x.size**(-1/5)\n",
    "    norm=stats.norm.pdf(x_axis, mu, sigma)\n",
    "    axs[1].plot(x_axis,norm)\n",
    "    tot+=norm\n",
    "    \n",
    "integral=scipy.integrate.trapz(tot)\n",
    "print(\"Integral of sum:\",integral)\n",
    "intX=scipy.integrate.trapz(val)\n",
    "print(\"Hist Integral:\",intX)\n",
    "fact=(intX/integral)\n",
    "print(\"Factor\",fact)\n",
    "                    \n",
    "T=tot[:]*fact\n",
    "intT=scipy.integrate.trapz(T)\n",
    "print(\"New gaussian:\",intT,\"equals to histo\")\n",
    "axs[0].plot(x_axis,T,linewidth=2.5)\n",
    "plt.show()"
   ]
  }
 ],
 "metadata": {
  "kernelspec": {
   "display_name": "Python 3 (ipykernel)",
   "language": "python",
   "name": "python3"
  },
  "language_info": {
   "codemirror_mode": {
    "name": "ipython",
    "version": 3
   },
   "file_extension": ".py",
   "mimetype": "text/x-python",
   "name": "python",
   "nbconvert_exporter": "python",
   "pygments_lexer": "ipython3",
   "version": "3.9.7"
  }
 },
 "nbformat": 4,
 "nbformat_minor": 2
}
